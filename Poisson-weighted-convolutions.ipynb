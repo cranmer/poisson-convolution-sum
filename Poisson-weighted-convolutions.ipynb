{
 "cells": [
  {
   "cell_type": "markdown",
   "metadata": {},
   "source": [
    "# An infinite sum of Poisson-weighted convolutions\n",
    "\n",
    "Kyle Cranmer, Aug 2018\n",
    "\n",
    "If viewing on GitHub, this looks better with nbviewer: [click here](http://nbviewer.jupyter.org/github/cranmer/poisson-convolution-sum/blob/master/Poisson-weighted-convolutions.ipynb)\n",
    "\n",
    "Consider a variable $x = \\sum_{i=1}^n z_i$, where the $z_i \\sim p(z|\\theta)$ are iid and $n \\sim Pois(\\nu)$. For each value of $n$, the distribution $p(x|n)$ is given by repeated convolutions\n",
    "\\begin{equation}\n",
    "{p(x|n, \\theta)} = p(z|\\theta)\\underbrace{\\star \\dots \\star}_\\text{n times} p(z|\\theta)\n",
    "\\end{equation}\n",
    "and for a Poisson mean of $\\nu$ the expected distribution for $x$ is  \n",
    "\\begin{equation}\n",
    "{p(x|\\nu, \\theta)} = \\sum_{n=0}^\\infty e^{-\\nu} \\frac{\\nu^n}{n!} p(x|n, \\theta)\n",
    "\\end{equation}\n",
    "\n",
    "The infinite tower of Poisson-weighted convolutions can be computed efficiently with a nice trick documented in *Analytic Confidence Level Calculations using the Likelihood Ratio and Fourier Transform* by Hongbo Hu and Jason Nielsen https://arxiv.org/pdf/physics/9906010.pdf. See also [this old paper](https://arxiv.org/abs/physics/0312050) and this [code](http://phystat.org/phystat/packages/0703002.1.html) for a C++ implementation.\n",
    "\n",
    "First we take advantage of the convolution theorem relating convolutions to multiplication in the Fourier domain, denoted with a bar.\n",
    "\\begin{equation}\n",
    "\\overline{p(x|n, \\theta)} = \\overline{p(z|\\theta)\\underbrace{\\star \\dots \\star}_\\text{n times} z|\\theta} = \\left[\\overline{p(z|\\theta)} \\right]^n \n",
    "\\end{equation}\n",
    "and then we can compress the infinite sum into the following exponential\n",
    "\\begin{equation}\n",
    "\\overline{p(x|\\nu, \\theta)} = \\sum_{n=0}^\\infty e^{-\\nu} \\frac{\\nu^n}{n!}  \\overline{p(x|n)}  =  \\exp\\left( \\nu \\left[ \\overline{p(z|\\theta)}-1 \\right] \\right)\n",
    "\\end{equation}\n",
    "\n",
    "In the code below, we will reimplement the technique using pytorch. An interesting feature of implementing this in pytorch is that we can backprop through the inverse FFT, the exponentiation, the multplication, the subtraction, and forward FFT to calculate the gradient\n",
    "\\begin{equation}\n",
    "\\nabla_\\theta\\, p(x|\\nu, \\theta)\n",
    "\\end{equation}\n",
    "and \n",
    "\\begin{equation}\n",
    "\\nabla_\\nu \\, p(x|\\nu, \\theta)\n",
    "\\end{equation}."
   ]
  },
  {
   "cell_type": "code",
   "execution_count": 1,
   "metadata": {},
   "outputs": [],
   "source": [
    "import torch\n",
    "import numpy as np\n",
    "import matplotlib.pyplot as plt"
   ]
  },
  {
   "cell_type": "markdown",
   "metadata": {},
   "source": [
    "## Classes for Poisson convolutions with complex FFT "
   ]
  },
  {
   "cell_type": "code",
   "execution_count": 3,
   "metadata": {},
   "outputs": [],
   "source": [
    "def complex_exp_pois(z, nu):\n",
    "    real1, imag1 = z.t()\n",
    "    real1=real1-1.\n",
    "    real_out = torch.exp(real1*nu)*torch.cos(nu*imag1)\n",
    "    imag_out = torch.exp(real1*nu)*torch.sin(nu*imag1)\n",
    "    return torch.stack([real_out, imag_out], dim = -1)"
   ]
  },
  {
   "cell_type": "code",
   "execution_count": 143,
   "metadata": {},
   "outputs": [],
   "source": [
    "# This defines p(z|\\theta)\n",
    "class base_dist():\n",
    "    def __init__(self):\n",
    "        self.theta = torch.ones(1,1, requires_grad=True, dtype=torch.double)\n",
    "        self.sigma = torch.tensor(0.051,requires_grad=True, dtype=torch.double)        \n",
    "    def forward(self, x):\n",
    "        max_ = torch.max(x)\n",
    "        min_ = torch.min(x)\n",
    "        nbins = x.size()[1]\n",
    "        norm = torch.tensor(max_/nbins/np.sqrt(2.*np.pi), dtype=torch.double)/self.sigma\n",
    "        y = torch.empty(1,nbins,2, dtype=torch.double)\n",
    "        y[0,:,0] = (torch.exp(-(x-self.theta)*(x-self.theta)/2./self.sigma/self.sigma))*norm\n",
    "        y[0,:,1]= torch.zeros(nbins)\n",
    "        return y\n",
    "    def parameters(self):\n",
    "        return [self.theta, self.sigma]"
   ]
  },
  {
   "cell_type": "code",
   "execution_count": 144,
   "metadata": {},
   "outputs": [],
   "source": [
    "# This does Poisson convolutions of the base distribution p(z|\\theta)\n",
    "class pois_conv():\n",
    "    def __init__(self):\n",
    "        self.nu = torch.tensor(3.,requires_grad=True, dtype=torch.double)\n",
    "        self.base_dist = base_dist()\n",
    "    def forward(self, x):\n",
    "        y = self.base_dist.forward(x)\n",
    "        yfft = torch.fft(y,1,normalized=False)\n",
    "        y2fft = complex_exp_pois(yfft[0], nu=self.nu).view(-1,nbins,2)\n",
    "        y2 = torch.ifft(y2fft,1, normalized=False)\n",
    "        return y2\n",
    "    def parameters(self):\n",
    "        temp = list(self.base_dist.parameters())\n",
    "        temp.append(self.nu)\n",
    "        return temp"
   ]
  },
  {
   "cell_type": "markdown",
   "metadata": {},
   "source": [
    "## Check with simple Gaussian $p(z|\\theta)$ base distribution"
   ]
  },
  {
   "cell_type": "code",
   "execution_count": 238,
   "metadata": {},
   "outputs": [],
   "source": [
    "min_=0\n",
    "max_=15\n",
    "nbins=3000\n",
    "\n",
    "x = torch.arange(min_, max_,(max_-min_)/nbins, dtype=torch.double)\n",
    "x=x.view(-1,nbins)"
   ]
  },
  {
   "cell_type": "code",
   "execution_count": 239,
   "metadata": {},
   "outputs": [
    {
     "data": {
      "text/plain": [
       "[tensor([[ 1.]], dtype=torch.float64), tensor(1.00000e-02 *\n",
       "        5.1000, dtype=torch.float64), tensor(3., dtype=torch.float64)]"
      ]
     },
     "execution_count": 239,
     "metadata": {},
     "output_type": "execute_result"
    }
   ],
   "source": [
    "y2_ = pois_conv()\n",
    "y2_.parameters()\n",
    "y_ = y2_.base_dist\n",
    "y2_.forward(x)\n",
    "y2_.parameters()"
   ]
  },
  {
   "cell_type": "code",
   "execution_count": 244,
   "metadata": {},
   "outputs": [
    {
     "data": {
      "text/plain": [
       "[1, 1, 2, 6]"
      ]
     },
     "execution_count": 244,
     "metadata": {},
     "output_type": "execute_result"
    }
   ],
   "source": [
    "#quick helper to for chekcing Poisson probabilities\n",
    "def myfact(xin):\n",
    "    return [np.math.factorial(x) for x in xin]\n",
    "myfact(np.arange(4))"
   ]
  },
  {
   "cell_type": "code",
   "execution_count": 245,
   "metadata": {},
   "outputs": [],
   "source": [
    "# Poisson probs\n",
    "nu = y2_.nu\n",
    "xint = np.arange(min_, max_)\n",
    "pois = np.exp(-nu.item())*np.power(nu.item(),xint)/myfact(xint)\n",
    "scaled_pois = pois\n",
    "#heights of Gaussian bumps will be lower by width of Gaussian, which scales like sqrt(x()\n",
    "scaled_pois[1:]= scaled_pois[1:]/np.sqrt(xint[1:])/np.sqrt(2*np.pi)/y_.sigma.item()*max_/nbins"
   ]
  },
  {
   "cell_type": "code",
   "execution_count": 249,
   "metadata": {},
   "outputs": [
    {
     "name": "stdout",
     "output_type": "stream",
     "text": [
      "6.0\n"
     ]
    },
    {
     "data": {
      "image/png": "[encoded data removed]",
      "text/plain": [
       "<Figure size 432x288 with 1 Axes>"
      ]
     },
     "metadata": {},
     "output_type": "display_data"
    }
   ],
   "source": [
    "with torch.no_grad():\n",
    "    print(y2_.nu.item())\n",
    "    #plt.plot(x[0].detach().numpy(),y_.forward(x)[0,:,0].detach().numpy())\n",
    "    plt.plot(x[0].detach().numpy(),y2_.forward(x)[0,:,0].detach().numpy(), label=\"computed\")\n",
    "    plt.scatter(xint,scaled_pois, label=\"predicted peak\")\n",
    "    plt.ylim(0,np.max(1.5*y2_.forward(x)[0,1:,0].detach().numpy()))\n",
    "    plt.xlabel(\"x\")\n",
    "    plt.legend()"
   ]
  },
  {
   "cell_type": "markdown",
   "metadata": {},
   "source": [
    "## Do a fit\n",
    "\n",
    "First make some dummy data"
   ]
  },
  {
   "cell_type": "code",
   "execution_count": 197,
   "metadata": {},
   "outputs": [],
   "source": [
    "y2_ = pois_conv()\n",
    "with torch.no_grad():\n",
    "    y2_.nu+=1.5\n",
    "    y2_.base_dist.theta+=.1\n",
    "    y2_.base_dist.sigma+=.1\n",
    "data = torch.zeros_like(y2_.forward(x))\n",
    "data.data = y2_.forward(x)"
   ]
  },
  {
   "cell_type": "markdown",
   "metadata": {},
   "source": [
    "Now gradient descent"
   ]
  },
  {
   "cell_type": "code",
   "execution_count": 255,
   "metadata": {},
   "outputs": [
    {
     "name": "stdout",
     "output_type": "stream",
     "text": [
      "\n",
      "t=0\tloss=0.003986922902300565\n",
      "\tparam  1.0\n",
      "\tparam  0.051\n",
      "\tparam  3.0\n",
      "\n",
      "t=500\tloss=0.0004082261412487773\n",
      "\tparam  1.1069657856157538\n",
      "\tparam  0.1769350213826769\n",
      "\tparam  3.5400895045643637\n",
      "\n",
      "t=1000\tloss=0.00019254864368328299\n",
      "\tparam  1.104256439223183\n",
      "\tparam  0.1674518635502764\n",
      "\tparam  3.769002476383715\n",
      "\n",
      "t=1500\tloss=0.0001108094209823346\n",
      "\tparam  1.1031418506638224\n",
      "\tparam  0.16309889590260718\n",
      "\tparam  3.91099116864832\n",
      "\n",
      "t=2000\tloss=7.033956699939845e-05\n",
      "\tparam  1.1024834462038822\n",
      "\tparam  0.16046594784319412\n",
      "\tparam  4.011160320625154\n",
      "\n",
      "t=2500\tloss=4.735130257572868e-05\n",
      "\tparam  1.102034468115289\n",
      "\tparam  0.15866951450029707\n",
      "\tparam  4.086748654745574\n",
      "\n",
      "t=3000\tloss=3.314869426685245e-05\n",
      "\tparam  1.1017038863350115\n",
      "\tparam  0.15735672225680727\n",
      "\tparam  4.146203055164765\n",
      "\n",
      "t=3500\tloss=2.3863101343512058e-05\n",
      "\tparam  1.1014485810067902\n",
      "\tparam  0.15635343805652147\n",
      "\tparam  4.1942969840307684\n",
      "\n",
      "t=4000\tloss=1.7540769419754663e-05\n",
      "\tparam  1.1012449280000847\n",
      "\tparam  0.15556214994448553\n",
      "\tparam  4.233993118894525\n",
      "\n",
      "t=4500\tloss=1.3103148307666452e-05\n",
      "\tparam  1.1010786615022556\n",
      "\tparam  0.15492333853285223\n",
      "\tparam  4.267256955428157\n",
      "\n",
      "t=5000\tloss=9.914245638328102e-06\n",
      "\tparam  1.1009405412434996\n",
      "\tparam  0.1543983108783803\n",
      "\tparam  4.295459111782398\n",
      "\n",
      "t=5500\tloss=7.57951268948578e-06\n",
      "\tparam  1.1008242563348958\n",
      "\tparam  0.1539606685597788\n",
      "\tparam  4.319593106709681\n",
      "\n",
      "t=6000\tloss=5.844156926365047e-06\n",
      "\tparam  1.1007253141406788\n",
      "\tparam  0.15359169879646456\n",
      "\tparam  4.340401711692256\n",
      "\n",
      "t=6500\tloss=4.538209163846984e-06\n",
      "\tparam  1.1006404082358734\n",
      "\tparam  0.15327771812946442\n",
      "\tparam  4.358454400061147\n",
      "\n",
      "t=7000\tloss=3.545217693286112e-06\n",
      "\tparam  1.1005670380541883\n",
      "\tparam  0.15300845972835223\n",
      "\tparam  4.374196991355995\n",
      "\n",
      "t=7500\tloss=2.7836023312572676e-06\n",
      "\tparam  1.1005032692037167\n",
      "\tparam  0.15277605152118925\n",
      "\tparam  4.387984677341635\n",
      "\n",
      "t=8000\tloss=2.1951300970023443e-06\n",
      "\tparam  1.1004475765038195\n",
      "\tparam  0.15257434506746897\n",
      "\tparam  4.4001046931404355\n",
      "\n",
      "t=8500\tloss=1.7375649295138236e-06\n",
      "\tparam  1.1003987377854716\n",
      "\tparam  0.1523984611320626\n",
      "\tparam  4.410792304345434\n",
      "\n",
      "t=9000\tloss=1.3798512568451279e-06\n",
      "\tparam  1.1003557599943536\n",
      "\tparam  0.15224447378635297\n",
      "\tparam  4.4202423467314675\n",
      "\n",
      "t=9500\tloss=1.0988831508716698e-06\n",
      "\tparam  1.100317826502317\n",
      "\tparam  0.15210918571107085\n",
      "\tparam  4.428617727693528\n",
      "\n",
      "t=10000\tloss=8.772923137453809e-07\n",
      "\tparam  1.1002842587278634\n",
      "\tparam  0.15198996510843235\n",
      "\tparam  4.4360558034693085\n"
     ]
    }
   ],
   "source": [
    "y2_ = pois_conv()\n",
    "prefit_prediction = y2_.forward(x)\n",
    "\n",
    "# do the fit\n",
    "learning_rate = 0.5\n",
    "for t in range(10001):\n",
    "    out = y2_.forward(x)\n",
    "    loss = (data-out).pow(2).sum()\n",
    "    if t%500==0: print(f\"\\nt={t}\\tloss={loss}\")\n",
    "    loss.backward()\n",
    "    with torch.no_grad():\n",
    "        for param in y2_.parameters():\n",
    "            if t%500==0: print(f\"\\tparam \", param.item())\n",
    "            param -= learning_rate*param.grad\n",
    "            param.grad.zero_()"
   ]
  },
  {
   "cell_type": "code",
   "execution_count": 256,
   "metadata": {},
   "outputs": [
    {
     "data": {
      "image/png": "[encoded data removed]",
      "text/plain": [
       "<Figure size 432x288 with 1 Axes>"
      ]
     },
     "metadata": {},
     "output_type": "display_data"
    }
   ],
   "source": [
    "with torch.no_grad():\n",
    "    plt.plot(x[0].detach().numpy(),data[0,:,0].detach().numpy(), label=\"data\")\n",
    "    plt.plot(x[0].detach().numpy(),y2_.forward(x)[0,:,0].detach().numpy(), label=\"fit\")    \n",
    "    plt.plot(x[0].detach().numpy(),prefit_prediction[0,:,0].detach().numpy(), alpha=.3, label=\"pre fit\")    \n",
    "    plt.ylim(0,np.max(1.5*data[0,1:,0].detach().numpy()))\n",
    "    plt.xlabel('x')\n",
    "    plt.legend()"
   ]
  },
  {
   "cell_type": "markdown",
   "metadata": {},
   "source": [
    "## It works!"
   ]
  }
 ],
 "metadata": {
  "kernelspec": {
   "display_name": "Python 3",
   "language": "python",
   "name": "python3"
  },
  "language_info": {
   "codemirror_mode": {
    "name": "ipython",
    "version": 3
   },
   "file_extension": ".py",
   "mimetype": "text/x-python",
   "name": "python",
   "nbconvert_exporter": "python",
   "pygments_lexer": "ipython3",
   "version": "3.6.6"
  }
 },
 "nbformat": 4,
 "nbformat_minor": 2
}
