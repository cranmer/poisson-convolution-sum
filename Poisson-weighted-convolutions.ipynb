{
 "cells": [
  {
   "cell_type": "markdown",
   "metadata": {},
   "source": [
    "# An infinite sum of Poisson-weighted convolutions\n",
    "\n",
    "Kyle Cranmer, Aug 2018\n",
    "\n",
    "Consider a variable $x = \\sum_{i=1}^n z_i$, where the $z_i \\sim p(z|\\theta)$ are iid and $n \\sim Pois(\\nu)$. For each value of $n$, the distribution $p(x|n)$ is given by repeated convolutions\n",
    "\\begin{equation}\n",
    "{p(x|n, \\theta)} = p(z|\\theta)\\underbrace{\\star \\dots \\star}_\\text{n times} p(z|\\theta)\n",
    "\\end{equation}\n",
    "and for a Poisson mean of $\\nu$ the expected distribution for $x$ is  \n",
    "\\begin{equation}\n",
    "{p(x|\\nu, \\theta)} = \\sum_{n=0}^\\infty e^{-\\nu} \\frac{\\nu^n}{n!} p(x|n, \\theta)\n",
    "\\end{equation}\n",
    "\n",
    "The infinite tower of Poisson-weighted convolutions can be computed efficiently with a nice trick documented in *Analytic Confidence Level Calculations using the Likelihood Ratio and Fourier Transform* by Hongbo Hu and Jason Nielsen https://arxiv.org/pdf/physics/9906010.pdf. See also [this old paper](https://arxiv.org/abs/physics/0312050) and this [code](http://phystat.org/phystat/packages/0703002.1.html) for a C++ implementation.\n",
    "\n",
    "First we take advantage of the convolution theorem relating convolutions to multiplication in the Fourier domain, denoted with a bar.\n",
    "\\begin{equation}\n",
    "\\overline{p(x|n, \\theta)} = \\overline{p(z|\\theta)\\underbrace{\\star \\dots \\star}_\\text{n times} z|\\theta} = \\left[\\overline{p(z|\\theta)} \\right]^n \n",
    "\\end{equation}\n",
    "and then we can compress the infinite sum into the following exponential\n",
    "\\begin{equation}\n",
    "\\overline{p(x|\\nu, \\theta)} = \\sum_{n=0}^\\infty e^{-\\nu} \\frac{\\nu^n}{n!}  \\overline{p(x|n)}  =  \\exp\\left( \\nu \\left[ \\overline{p(z|\\theta)}-1 \\right] \\right)\n",
    "\\end{equation}\n",
    "\n",
    "In the code below, we will reimplement the technique using pytorch. An interesting feature of implementing this in pytorch is that we can backprop through the inverse FFT, the exponentiation, the multplication, the subtraction, and forward FFT to calculate the gradient\n",
    "\\begin{equation}\n",
    "\\nabla_\\theta\\, p(x|\\nu, \\theta)\n",
    "\\end{equation}\n",
    "and \n",
    "\\begin{equation}\n",
    "\\nabla_\\nu \\, p(x|\\nu, \\theta)\n",
    "\\end{equation}."
   ]
  },
  {
   "cell_type": "code",
   "execution_count": 11,
   "metadata": {},
   "outputs": [],
   "source": [
    "import torch\n",
    "import numpy as np\n",
    "import matplotlib.pyplot as plt"
   ]
  },
  {
   "cell_type": "markdown",
   "metadata": {},
   "source": [
    "## Warmup: Gaussian$\\bigoplus$ Gaussian complex FFT "
   ]
  },
  {
   "cell_type": "code",
   "execution_count": 13,
   "metadata": {},
   "outputs": [],
   "source": [
    "# for Nx2 tensors\n",
    "def complex_multiplication(t1, t2):\n",
    "  real1, imag1 = t1.t()\n",
    "  real2, imag2 = t2.t()\n",
    "  return torch.stack([real1 * real2 - imag1 * imag2, real1 * imag2 + imag1 * real2], dim = -1)"
   ]
  },
  {
   "cell_type": "code",
   "execution_count": 14,
   "metadata": {},
   "outputs": [
    {
     "name": "stdout",
     "output_type": "stream",
     "text": [
      "torch.Size([1, 1000, 2])\n",
      "tensor(1.)\n"
     ]
    }
   ],
   "source": [
    "min_=0\n",
    "max_=5\n",
    "nbins = 1000\n",
    "x = torch.arange(min_, max_,(max_-min_)/nbins, dtype=torch.double)\n",
    "x=x.view(-1,nbins)\n",
    "x.shape\n",
    "\n",
    "gamma = torch.ones(1,1, requires_grad=True)\n",
    "#gamma[0,0]=3\n",
    "gamma = torch.ones(1,1, requires_grad=True, dtype=torch.double)\n",
    "sigma = 0.05\n",
    "\n",
    "\n",
    "y = torch.empty(1,nbins,2)\n",
    "y[0,:,0] = torch.exp(-(x-gamma)*(x-gamma)/2/sigma/sigma)*(1./np.sqrt(2.*np.pi)/sigma)*max_/nbins\n",
    "y[0,:,1]= torch.zeros(nbins)\n",
    "\n",
    "yfft = torch.fft(y,1,normalized=False)\n",
    "#y2fft = yfft*yfft\n",
    "y2fft = complex_multiplication(yfft[0],yfft[0]).view(-1,nbins,2)\n",
    "y3fft = complex_multiplication(yfft[0],y2fft[0]).view(-1,nbins,2)\n",
    "#y2fft = yfft\n",
    "y2 = torch.ifft(y2fft,1, normalized=False)\n",
    "y3 = torch.ifft(y3fft,1, normalized=False)\n",
    "\n",
    "print(y2.shape)\n",
    "\n",
    "#y2.backward(torch.ones_like(y2))\n",
    "\n",
    "#print(gamma.grad)\n",
    "\n",
    "print(torch.sum(y))\n",
    "#yfft"
   ]
  },
  {
   "cell_type": "code",
   "execution_count": 15,
   "metadata": {},
   "outputs": [
    {
     "data": {
      "text/plain": [
       "(0.5773504, 0.5773502691896258)"
      ]
     },
     "execution_count": 15,
     "metadata": {},
     "output_type": "execute_result"
    },
    {
     "data": {
      "image/png": "[encoded data removed]",
      "text/plain": [
       "<Figure size 432x288 with 1 Axes>"
      ]
     },
     "metadata": {},
     "output_type": "display_data"
    }
   ],
   "source": [
    "with torch.no_grad():\n",
    "    plt.plot(x[0].detach().numpy(),y[0,:,0].detach().numpy())\n",
    "    plt.plot(x[0].detach().numpy(),y2[0,:,0].detach().numpy())\n",
    "    plt.plot(x[0].detach().numpy(),y3[0,:,0].detach().numpy())\n",
    "\n",
    "    \n",
    "np.max(y2[0,:,0].detach().numpy())/np.max(y[0,:,0].detach().numpy()), 1/np.sqrt(2)\n",
    "np.max(y3[0,:,0].detach().numpy())/np.max(y[0,:,0].detach().numpy()), 1/np.sqrt(3)"
   ]
  },
  {
   "cell_type": "markdown",
   "metadata": {},
   "source": [
    "## Poisson convolutions with complex FFT \n",
    "\n",
    "(long debugging for pytorch FFT normalization. Need to cleanup and demonstrate the gradients)"
   ]
  },
  {
   "cell_type": "code",
   "execution_count": 16,
   "metadata": {},
   "outputs": [],
   "source": [
    "def complex_exp_pois(z, nu):\n",
    "    real1, imag1 = z.t()\n",
    "    real1=real1-1.\n",
    "    real_out = torch.exp(real1*nu)*torch.cos(nu*imag1)\n",
    "    imag_out = torch.exp(real1*nu)*torch.sin(nu*imag1)\n",
    "    return torch.stack([real_out, imag_out], dim = -1)"
   ]
  },
  {
   "cell_type": "code",
   "execution_count": 25,
   "metadata": {},
   "outputs": [
    {
     "name": "stdout",
     "output_type": "stream",
     "text": [
      "tensor(1.0000, dtype=torch.float64) tensor(1.0000, dtype=torch.float64)\n"
     ]
    }
   ],
   "source": [
    "min_=0\n",
    "max_=15\n",
    "nbins=3000\n",
    "x = torch.arange(min_, max_,(max_-min_)/nbins, dtype=torch.double)\n",
    "x=x.view(-1,nbins)\n",
    "x.shape\n",
    "\n",
    "gamma = torch.ones(1,1, requires_grad=True, dtype=torch.double)\n",
    "#gamma[0,0]=3\n",
    "nu = 5.#*torch.ones(1,requires_grad=True, dtype=torch.double)\n",
    "sigma = 0.05\n",
    "y = torch.empty(1,nbins,2, dtype=torch.double)\n",
    "y[0,:,0] = (torch.exp(-(x-gamma)*(x-gamma)/2/sigma/sigma))*(1./np.sqrt(2.*np.pi)/sigma)*max_/nbins\n",
    "y[0,:,1]= torch.zeros(nbins)\n",
    "\n",
    "yfft = torch.fft(y,1,normalized=False)\n",
    "#y2fft = yfft*yfft\n",
    "y2fft = complex_exp_pois(yfft[0], nu=nu).view(-1,nbins,2)\n",
    "y2 = torch.ifft(y2fft,1, normalized=False)\n",
    "\n",
    "#y2.backward(torch.ones_like(y2))\n",
    "\n",
    "#print(gamma.grad)\n",
    "\n",
    "print(torch.sum(y), torch.sum(y2))"
   ]
  },
  {
   "cell_type": "code",
   "execution_count": 26,
   "metadata": {},
   "outputs": [
    {
     "data": {
      "text/plain": [
       "[1, 1, 2, 6]"
      ]
     },
     "execution_count": 26,
     "metadata": {},
     "output_type": "execute_result"
    }
   ],
   "source": [
    "def myfact(xin):\n",
    "    return [np.math.factorial(x) for x in xin]\n",
    "myfact(np.arange(4))"
   ]
  },
  {
   "cell_type": "code",
   "execution_count": 27,
   "metadata": {},
   "outputs": [],
   "source": [
    "# Poisson probs\n",
    "xint = np.arange(min_, max_)\n",
    "pois = np.exp(-nu)*np.power(nu,xint)/myfact(xint)"
   ]
  },
  {
   "cell_type": "code",
   "execution_count": 28,
   "metadata": {},
   "outputs": [
    {
     "data": {
      "image/png": "[encoded data removed]",
      "text/plain": [
       "<Figure size 432x288 with 1 Axes>"
      ]
     },
     "metadata": {},
     "output_type": "display_data"
    }
   ],
   "source": [
    "with torch.no_grad():\n",
    "    plt.plot(x[0].detach().numpy(),y[0,:,0].detach().numpy())\n",
    "    plt.plot(x[0].detach().numpy(),y2[0,:,0].detach().numpy())\n",
    "    plt.scatter(xint,pois/np.sqrt(xint+.01)/np.sqrt(2*np.pi)/sigma*max_/nbins)\n",
    "    plt.ylim(0,np.max(1.5*y2[0,:,0].detach().numpy()))\n"
   ]
  },
  {
   "cell_type": "code",
   "execution_count": null,
   "metadata": {},
   "outputs": [],
   "source": []
  },
  {
   "cell_type": "code",
   "execution_count": null,
   "metadata": {},
   "outputs": [],
   "source": []
  }
 ],
 "metadata": {
  "kernelspec": {
   "display_name": "Python 3",
   "language": "python",
   "name": "python3"
  },
  "language_info": {
   "codemirror_mode": {
    "name": "ipython",
    "version": 3
   },
   "file_extension": ".py",
   "mimetype": "text/x-python",
   "name": "python",
   "nbconvert_exporter": "python",
   "pygments_lexer": "ipython3",
   "version": "3.6.6"
  }
 },
 "nbformat": 4,
 "nbformat_minor": 2
}
